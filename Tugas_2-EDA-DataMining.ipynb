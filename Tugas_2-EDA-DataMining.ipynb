{
  "nbformat": 4,
  "nbformat_minor": 0,
  "metadata": {
    "colab": {
      "provenance": [],
      "include_colab_link": true
    },
    "kernelspec": {
      "name": "python3",
      "display_name": "Python 3"
    },
    "language_info": {
      "name": "python"
    }
  },
  "cells": [
    {
      "cell_type": "markdown",
      "metadata": {
        "id": "view-in-github",
        "colab_type": "text"
      },
      "source": [
        "<a href=\"https://colab.research.google.com/github/robet31/RAPIGANTENG/blob/main/Tugas_2-EDA-DataMining.ipynb\" target=\"_parent\"><img src=\"https://colab.research.google.com/assets/colab-badge.svg\" alt=\"Open In Colab\"/></a>"
      ]
    },
    {
      "cell_type": "markdown",
      "source": [
        "**1. Apakah ada tipe variabel yang kurang tepat?**"
      ],
      "metadata": {
        "id": "5rpYzn0LdJRL"
      }
    },
    {
      "cell_type": "code",
      "execution_count": 22,
      "metadata": {
        "id": "c4B_0z3rUX-X",
        "outputId": "6862fa21-b9b7-4e5a-e625-779fb366ff6e",
        "colab": {
          "base_uri": "https://localhost:8080/"
        }
      },
      "outputs": [
        {
          "output_type": "stream",
          "name": "stdout",
          "text": [
            "Tipe data asli:\n",
            " total_bill    float64\n",
            "tip           float64\n",
            "sex            object\n",
            "smoker         object\n",
            "day            object\n",
            "time           object\n",
            "size            int64\n",
            "dtype: object\n",
            "\n",
            "Tipe data setelah konversi:\n",
            " total_bill     float64\n",
            "tip            float64\n",
            "sex           category\n",
            "smoker        category\n",
            "day           category\n",
            "time          category\n",
            "size             int64\n",
            "dtype: object\n"
          ]
        }
      ],
      "source": [
        "import pandas as pd\n",
        "\n",
        "# Load dataset\n",
        "df = pd.read_csv('tips.csv')\n",
        "\n",
        "# Periksa tipe data asli\n",
        "print(\"Tipe data asli:\\n\", df.dtypes)\n",
        "\n",
        "# Ubah tipe data kategorikal\n",
        "df['sex'] = df['sex'].astype('category')\n",
        "df['smoker'] = df['smoker'].astype('category')\n",
        "df['day'] = df['day'].astype('category')\n",
        "df['time'] = df['time'].astype('category')\n",
        "\n",
        "# Periksa tipe data setelah konversi\n",
        "print(\"\\nTipe data setelah konversi:\\n\", df.dtypes)"
      ]
    },
    {
      "cell_type": "markdown",
      "source": [
        "**2. Apakah data numerik cenderung berdistribusi normal?**"
      ],
      "metadata": {
        "id": "p4UUgjNudME5"
      }
    },
    {
      "cell_type": "code",
      "source": [],
      "metadata": {
        "id": "evTSM4n2duMq"
      },
      "execution_count": null,
      "outputs": []
    },
    {
      "cell_type": "markdown",
      "source": [
        "**3. Apakah ada outlier, noise, missing values, atau duplikasi?**"
      ],
      "metadata": {
        "id": "ABYBiOvcdPld"
      }
    },
    {
      "cell_type": "code",
      "source": [],
      "metadata": {
        "id": "7qn9a2Epdudq"
      },
      "execution_count": null,
      "outputs": []
    },
    {
      "cell_type": "markdown",
      "source": [
        "**4. Apakah proporsi pelanggan pria dan wanita seimbang?**"
      ],
      "metadata": {
        "id": "lekM9lEKdVli"
      }
    },
    {
      "cell_type": "code",
      "source": [],
      "metadata": {
        "id": "t7LlANX8duyb"
      },
      "execution_count": null,
      "outputs": []
    },
    {
      "cell_type": "markdown",
      "source": [
        "**5. Apakah pria atau wanita cenderung memberi tip lebih besar?**"
      ],
      "metadata": {
        "id": "L36bbgfNdZfC"
      }
    },
    {
      "cell_type": "code",
      "source": [],
      "metadata": {
        "id": "ewAHmRpNdvdb"
      },
      "execution_count": null,
      "outputs": []
    },
    {
      "cell_type": "markdown",
      "source": [
        "**6. Apakah ada kecenderungan tip lebih besar pada hari tertentu?**"
      ],
      "metadata": {
        "id": "I3RpYj7XdfzJ"
      }
    },
    {
      "cell_type": "code",
      "source": [],
      "metadata": {
        "id": "roE-WdUadvwC"
      },
      "execution_count": null,
      "outputs": []
    },
    {
      "cell_type": "markdown",
      "source": [
        "**7. Apakah pelanggan perokok cenderung memberi tip lebih besar?**"
      ],
      "metadata": {
        "id": "a38UU_24dij7"
      }
    },
    {
      "cell_type": "code",
      "source": [],
      "metadata": {
        "id": "IrC4wmbtdwFo"
      },
      "execution_count": null,
      "outputs": []
    },
    {
      "cell_type": "markdown",
      "source": [
        "**8. Apakah pola di nomor 5 dan 7 dipengaruhi hari?**"
      ],
      "metadata": {
        "id": "RXzDD3M7dlN7"
      }
    },
    {
      "cell_type": "code",
      "source": [],
      "metadata": {
        "id": "EhHybcmOdwux"
      },
      "execution_count": null,
      "outputs": []
    },
    {
      "cell_type": "markdown",
      "source": [
        "**9. Pola apa yang dapat ditemukan?**"
      ],
      "metadata": {
        "id": "H3X91LwMdnjo"
      }
    },
    {
      "cell_type": "code",
      "source": [],
      "metadata": {
        "id": "PAqoxnKIdzbg"
      },
      "execution_count": null,
      "outputs": []
    },
    {
      "cell_type": "markdown",
      "source": [
        "**10. Saran untuk pemilik restoran:**"
      ],
      "metadata": {
        "id": "BK6QfP14dqFq"
      }
    },
    {
      "cell_type": "markdown",
      "source": [
        "**11. Skills/Kompetensi yang dibutuhkan:**"
      ],
      "metadata": {
        "id": "lbdqwDN1dsDI"
      }
    }
  ]
}